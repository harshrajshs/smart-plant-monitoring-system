{
 "cells": [
  {
   "cell_type": "markdown",
   "metadata": {},
   "source": [
    "# Project Overview\n",
    "\n",
    "## Introduction\n",
    "This notebook documents the process of receiving data from an MQTT broker, processing JPEG strings into images, storing the outputs in text files, and sending information to users via SMTP in case of any issues.\n",
    "\n",
    "## Code Labels\n",
    "- **MQTT Data Receiver**: Handles data reception from the MQTT broker.\n",
    "- **JPEG String to Image Processor**: Converts JPEG strings into images.\n",
    "- **Text File Storage**: Manages the storage of outputs in text files.\n",
    "- **SMTP Notification Sender**: Sends notifications to users via SMTP in case of issues.\n",
    "\n",
    "## Dependencies\n",
    "- Python 3.10.8\n",
    "- Paho-MQTT: For MQTT communication.\n",
    "- Pillow: For image processing.\n",
    "- smtplib: For SMTP functionality.\n",
    "\n",
    "## Notebook Setup\n",
    "- Import necessary libraries.\n",
    "- Set up MQTT connection.\n",
    "- Define functions for processing.\n",
    "\n"
   ]
  },
  {
   "cell_type": "code",
   "execution_count": 2,
   "metadata": {},
   "outputs": [
    {
     "name": "stdout",
     "output_type": "stream",
     "text": [
      "Collecting paho-mqtt==1.5.1\n",
      "  Downloading paho-mqtt-1.5.1.tar.gz (101 kB)\n",
      "                                              0.0/101.8 kB ? eta -:--:--\n",
      "     -------------------------------------- 101.8/101.8 kB 3.0 MB/s eta 0:00:00\n",
      "  Installing build dependencies: started\n",
      "  Installing build dependencies: finished with status 'done'\n",
      "  Getting requirements to build wheel: started\n",
      "  Getting requirements to build wheel: finished with status 'done'\n",
      "  Preparing metadata (pyproject.toml): started\n",
      "  Preparing metadata (pyproject.toml): finished with status 'done'\n",
      "Building wheels for collected packages: paho-mqtt\n",
      "  Building wheel for paho-mqtt (pyproject.toml): started\n",
      "  Building wheel for paho-mqtt (pyproject.toml): finished with status 'done'\n",
      "  Created wheel for paho-mqtt: filename=paho_mqtt-1.5.1-py3-none-any.whl size=65065 sha256=7f2477023a4122831582140bde8c801b4bb580ebb3b61a34e2927680e0106b3c\n",
      "  Stored in directory: c:\\users\\91941\\appdata\\local\\pip\\cache\\wheels\\b6\\72\\f9\\44ca415a44f9cc7468fe4c59e6282938e504fadec09641fa63\n",
      "Successfully built paho-mqtt\n",
      "Installing collected packages: paho-mqtt\n",
      "Successfully installed paho-mqtt-1.5.1\n"
     ]
    },
    {
     "name": "stderr",
     "output_type": "stream",
     "text": [
      "WARNING: Ignoring invalid distribution -atplotlib (c:\\users\\91941\\appdata\\local\\programs\\python\\python310\\lib\\site-packages)\n",
      "WARNING: Ignoring invalid distribution -atplotlib (c:\\users\\91941\\appdata\\local\\programs\\python\\python310\\lib\\site-packages)\n",
      "\n",
      "[notice] A new release of pip is available: 23.1.2 -> 24.0\n",
      "[notice] To update, run: python.exe -m pip install --upgrade pip\n"
     ]
    },
    {
     "name": "stdout",
     "output_type": "stream",
     "text": [
      "Requirement already satisfied: Pillow in c:\\users\\91941\\appdata\\local\\programs\\python\\python310\\lib\\site-packages (9.1.1)\n"
     ]
    },
    {
     "name": "stderr",
     "output_type": "stream",
     "text": [
      "WARNING: Ignoring invalid distribution -atplotlib (c:\\users\\91941\\appdata\\local\\programs\\python\\python310\\lib\\site-packages)\n",
      "WARNING: Ignoring invalid distribution -atplotlib (c:\\users\\91941\\appdata\\local\\programs\\python\\python310\\lib\\site-packages)\n",
      "\n",
      "[notice] A new release of pip is available: 23.1.2 -> 24.0\n",
      "[notice] To update, run: python.exe -m pip install --upgrade pip\n"
     ]
    }
   ],
   "source": [
    "# !pip install paho-mqtt==1.5.1\n",
    "# !pip install Pillow\n",
    "# !pip install numpy\n",
    "# !pip install matplotlib\n"
   ]
  },
  {
   "cell_type": "code",
   "execution_count": null,
   "metadata": {},
   "outputs": [],
   "source": [
    "import base64\n",
    "import matplotlib.pyplot as plt\n",
    "import matplotlib.image as mpimg\n",
    "import time\n",
    "from datetime import datetime\n",
    "from PIL import Image\n",
    "import numpy as np\n",
    "import matplotlib.pyplot as plt"
   ]
  },
  {
   "cell_type": "markdown",
   "metadata": {},
   "source": [
    "## Function: `string_to_jpeg(encoded_string, output_file_path)`\n",
    "\n",
    "This function takes an encoded JPEG string and an output file path as input. It performs the following tasks:\n",
    "\n",
    "1. Writes the encoded string to a temporary text file named \"leaf.txt\".\n",
    "2. Decodes the base64-encoded string.\n",
    "3. Writes the decoded data to the specified output file path.\n",
    "4. Reads the output JPEG file, displays the image using Matplotlib, and shows it without axes.\n",
    "\n",
    "### Parameters:\n",
    "- `encoded_string`: A base64-encoded string representing a JPEG image.\n",
    "- `output_file_path`: Path to save the decoded JPEG image.\n"
   ]
  },
  {
   "cell_type": "code",
   "execution_count": 1,
   "metadata": {},
   "outputs": [
    {
     "name": "stdout",
     "output_type": "stream",
     "text": [
      "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\n"
     ]
    }
   ],
   "source": [
    "\n",
    "\n",
    "\n",
    "def string_to_jpeg(encoded_string, output_file_path):\n",
    "    file_path_image = \"leaf.txt\"\n",
    "    with open(file_path_image, \"w\") as file:\n",
    "        file.write(encoded_string)\n",
    "    decoded_data = base64.b64decode(encoded_string)\n",
    "    with open(output_file_path, \"wb\") as image_file:\n",
    "        image_file.write(decoded_data)\n",
    "\n",
    "    jpeg_file = 'leaf.jpg'\n",
    "\n",
    "    img = mpimg.imread(jpeg_file)\n",
    "    plt.imshow(img)\n",
    "    plt.axis('off')  # Turn off axis\n",
    "    plt.show()\n",
    "\n",
    "\n",
    "output_file = \"leaf.jpg\"\n"
   ]
  },
  {
   "cell_type": "markdown",
   "metadata": {},
   "source": [
    "## Function: `write_string_to_file(file_path, content)`\n",
    "\n",
    "This function writes a string content to a specified file path. It handles exceptions if any errors occur during the writing process.\n",
    "\n",
    "### Parameters:\n",
    "- `file_path`: Path to the file where the content will be written.\n",
    "- `content`: The string content to be written to the file.\n"
   ]
  },
  {
   "cell_type": "code",
   "execution_count": 2,
   "metadata": {},
   "outputs": [],
   "source": [
    "def write_string_to_file(file_path, content):\n",
    "    try:\n",
    "        with open(file_path, 'w') as file:\n",
    "            file.write(content)\n",
    "        print(\"String successfully written to file.\")\n",
    "    except Exception as e:\n",
    "        print(\"An error occurred while writing to the file:\", str(e))\n",
    "\n",
    "file_path = \"composition.txt\"\n"
   ]
  },
  {
   "cell_type": "markdown",
   "metadata": {},
   "source": [
    "----\n",
    "---\n"
   ]
  },
  {
   "cell_type": "markdown",
   "metadata": {},
   "source": [
    "## Function: `mailing_func(body, subject)`\n",
    "\n",
    "This function sends an email with the specified body and subject to a list of receiver email addresses using SMTP (Simple Mail Transfer Protocol).\n",
    "\n",
    "### Parameters:\n",
    "- `body`: The content of the email, typically in HTML format.\n",
    "- `subject`: The subject of the email."
   ]
  },
  {
   "cell_type": "code",
   "execution_count": 5,
   "metadata": {},
   "outputs": [],
   "source": [
    "import smtplib\n",
    "from email.mime.text import MIMEText\n",
    "from email.mime.multipart import MIMEMultipart\n",
    "def mailing_func(body,subject):\n",
    "    sender_email = ''\n",
    "    sender_password = \"\"\n",
    "    receiver_email_list = ['anant23k.kiran@gmail.com','shubhiagarwal2494@gmail.com','borralakshya7@gmail.com','arghyadip@iitg.ac.in']\n",
    "    # receiver_email_list = ['anant23k.kiran@gmail.com']\n",
    "    for receiver_email in receiver_email_list:\n",
    "        msg = MIMEMultipart()\n",
    "        msg['From'] = sender_email\n",
    "        msg['To'] = receiver_email\n",
    "        msg['Subject'] = subject\n",
    "        msg.attach(MIMEText(body, 'html'))\n",
    "\n",
    "        try:\n",
    "            smtp_server = smtplib.SMTP('smtp.gmail.com', 587)\n",
    "\n",
    "            smtp_server.starttls()\n",
    "            smtp_server.login(sender_email, sender_password)\n",
    "            smtp_server.sendmail(sender_email, receiver_email, msg.as_string())\n",
    "            smtp_server.quit()\n",
    "\n",
    "            print(\"Email sent successfulGmail ly!\")\n",
    "        except Exception as e:\n",
    "            print(\"An error occurred while sending the email:\", str(e))\n",
    "    return 0\n"
   ]
  },
  {
   "cell_type": "markdown",
   "metadata": {},
   "source": [
    "## MQTT Connection and Subscription\n",
    "\n",
    "### Function: `connect_mqtt()`\n",
    "\n",
    "This function establishes a connection to the MQTT broker and returns the MQTT client.\n",
    "\n",
    "### Function: `subscribe(client)`\n",
    "\n",
    "This function subscribes to the specified MQTT topics and defines callback functions to handle incoming messages.\n",
    "\n",
    "### Function: `check_message_timeout()`\n",
    "\n",
    "This function continuously checks for the timeout of incoming messages. If no message is received for a certain period (1 minute in this case), it sends an alert email to notify the user about the device's unresponsiveness.\n",
    "\n",
    "### Function: `run()`\n",
    "\n",
    "This function initiates the MQTT connection, subscription, and starts a separate thread to check for message timeouts. It runs the MQTT client loop indefinitely.\n"
   ]
  },
  {
   "cell_type": "code",
   "execution_count": 7,
   "metadata": {},
   "outputs": [
    {
     "name": "stdout",
     "output_type": "stream",
     "text": [
      "Connected to MQTT Broker!\n",
      "No message received since 1 minute.No message received since 1 minute.\n",
      "\n",
      "Email sent successfulGmail ly!\n",
      "Email sent successfulGmail ly!\n",
      "Email sent successfulGmail ly!\n"
     ]
    },
    {
     "ename": "KeyboardInterrupt",
     "evalue": "",
     "output_type": "error",
     "traceback": [
      "\u001b[1;31m---------------------------------------------------------------------------\u001b[0m",
      "\u001b[1;31mKeyboardInterrupt\u001b[0m                         Traceback (most recent call last)",
      "Cell \u001b[1;32mIn[7], line 77\u001b[0m\n\u001b[0;32m     75\u001b[0m \u001b[38;5;28;01mglobal\u001b[39;00m last_message_time\n\u001b[0;32m     76\u001b[0m last_message_time \u001b[38;5;241m=\u001b[39m time\u001b[38;5;241m.\u001b[39mtime()\n\u001b[1;32m---> 77\u001b[0m \u001b[43mrun\u001b[49m\u001b[43m(\u001b[49m\u001b[43m)\u001b[49m\n",
      "Cell \u001b[1;32mIn[7], line 71\u001b[0m, in \u001b[0;36mrun\u001b[1;34m()\u001b[0m\n\u001b[0;32m     68\u001b[0m subscribe(client)\n\u001b[0;32m     69\u001b[0m threading\u001b[38;5;241m.\u001b[39mThread(target\u001b[38;5;241m=\u001b[39mcheck_message_timeout, daemon\u001b[38;5;241m=\u001b[39m\u001b[38;5;28;01mTrue\u001b[39;00m)\u001b[38;5;241m.\u001b[39mstart()\n\u001b[1;32m---> 71\u001b[0m \u001b[43mclient\u001b[49m\u001b[38;5;241;43m.\u001b[39;49m\u001b[43mloop_forever\u001b[49m\u001b[43m(\u001b[49m\u001b[43m)\u001b[49m\n",
      "File \u001b[1;32mc:\\Users\\91941\\AppData\\Local\\Programs\\Python\\Python310\\lib\\site-packages\\paho\\mqtt\\client.py:1779\u001b[0m, in \u001b[0;36mClient.loop_forever\u001b[1;34m(self, timeout, max_packets, retry_first_connection)\u001b[0m\n\u001b[0;32m   1777\u001b[0m rc \u001b[38;5;241m=\u001b[39m MQTT_ERR_SUCCESS\n\u001b[0;32m   1778\u001b[0m \u001b[38;5;28;01mwhile\u001b[39;00m rc \u001b[38;5;241m==\u001b[39m MQTT_ERR_SUCCESS:\n\u001b[1;32m-> 1779\u001b[0m     rc \u001b[38;5;241m=\u001b[39m \u001b[38;5;28;43mself\u001b[39;49m\u001b[38;5;241;43m.\u001b[39;49m\u001b[43mloop\u001b[49m\u001b[43m(\u001b[49m\u001b[43mtimeout\u001b[49m\u001b[43m,\u001b[49m\u001b[43m \u001b[49m\u001b[43mmax_packets\u001b[49m\u001b[43m)\u001b[49m\n\u001b[0;32m   1780\u001b[0m     \u001b[38;5;66;03m# We don't need to worry about locking here, because we've\u001b[39;00m\n\u001b[0;32m   1781\u001b[0m     \u001b[38;5;66;03m# either called loop_forever() when in single threaded mode, or\u001b[39;00m\n\u001b[0;32m   1782\u001b[0m     \u001b[38;5;66;03m# in multi threaded mode when loop_stop() has been called and\u001b[39;00m\n\u001b[0;32m   1783\u001b[0m     \u001b[38;5;66;03m# so no other threads can access _current_out_packet,\u001b[39;00m\n\u001b[0;32m   1784\u001b[0m     \u001b[38;5;66;03m# _out_packet or _messages.\u001b[39;00m\n\u001b[0;32m   1785\u001b[0m     \u001b[38;5;28;01mif\u001b[39;00m (\u001b[38;5;28mself\u001b[39m\u001b[38;5;241m.\u001b[39m_thread_terminate \u001b[38;5;129;01mis\u001b[39;00m \u001b[38;5;28;01mTrue\u001b[39;00m\n\u001b[0;32m   1786\u001b[0m         \u001b[38;5;129;01mand\u001b[39;00m \u001b[38;5;28mself\u001b[39m\u001b[38;5;241m.\u001b[39m_current_out_packet \u001b[38;5;129;01mis\u001b[39;00m \u001b[38;5;28;01mNone\u001b[39;00m\n\u001b[0;32m   1787\u001b[0m         \u001b[38;5;129;01mand\u001b[39;00m \u001b[38;5;28mlen\u001b[39m(\u001b[38;5;28mself\u001b[39m\u001b[38;5;241m.\u001b[39m_out_packet) \u001b[38;5;241m==\u001b[39m \u001b[38;5;241m0\u001b[39m\n\u001b[0;32m   1788\u001b[0m             \u001b[38;5;129;01mand\u001b[39;00m \u001b[38;5;28mlen\u001b[39m(\u001b[38;5;28mself\u001b[39m\u001b[38;5;241m.\u001b[39m_out_messages) \u001b[38;5;241m==\u001b[39m \u001b[38;5;241m0\u001b[39m):\n",
      "File \u001b[1;32mc:\\Users\\91941\\AppData\\Local\\Programs\\Python\\Python310\\lib\\site-packages\\paho\\mqtt\\client.py:1167\u001b[0m, in \u001b[0;36mClient.loop\u001b[1;34m(self, timeout, max_packets)\u001b[0m\n\u001b[0;32m   1165\u001b[0m rlist \u001b[38;5;241m=\u001b[39m [\u001b[38;5;28mself\u001b[39m\u001b[38;5;241m.\u001b[39m_sock, \u001b[38;5;28mself\u001b[39m\u001b[38;5;241m.\u001b[39m_sockpairR]\n\u001b[0;32m   1166\u001b[0m \u001b[38;5;28;01mtry\u001b[39;00m:\n\u001b[1;32m-> 1167\u001b[0m     socklist \u001b[38;5;241m=\u001b[39m \u001b[43mselect\u001b[49m\u001b[38;5;241;43m.\u001b[39;49m\u001b[43mselect\u001b[49m\u001b[43m(\u001b[49m\u001b[43mrlist\u001b[49m\u001b[43m,\u001b[49m\u001b[43m \u001b[49m\u001b[43mwlist\u001b[49m\u001b[43m,\u001b[49m\u001b[43m \u001b[49m\u001b[43m[\u001b[49m\u001b[43m]\u001b[49m\u001b[43m,\u001b[49m\u001b[43m \u001b[49m\u001b[43mtimeout\u001b[49m\u001b[43m)\u001b[49m\n\u001b[0;32m   1168\u001b[0m \u001b[38;5;28;01mexcept\u001b[39;00m \u001b[38;5;167;01mTypeError\u001b[39;00m:\n\u001b[0;32m   1169\u001b[0m     \u001b[38;5;66;03m# Socket isn't correct type, in likelihood connection is lost\u001b[39;00m\n\u001b[0;32m   1170\u001b[0m     \u001b[38;5;28;01mreturn\u001b[39;00m MQTT_ERR_CONN_LOST\n",
      "\u001b[1;31mKeyboardInterrupt\u001b[0m: "
     ]
    },
    {
     "name": "stdout",
     "output_type": "stream",
     "text": [
      "No message received since 1 minute.No message received since 1 minute.\n",
      "\n",
      "Email sent successfulGmail ly!\n",
      "Email sent successfulGmail ly!\n",
      "Email sent successfulGmail ly!\n",
      "No message received since 1 minute.No message received since 1 minute.\n",
      "\n",
      "Email sent successfulGmail ly!\n",
      "Email sent successfulGmail ly!\n",
      "Email sent successfulGmail ly!\n"
     ]
    }
   ],
   "source": [
    "import random\n",
    "import threading\n",
    "import time\n",
    "from paho.mqtt import client as mqtt_client\n",
    "\n",
    "\n",
    "broker = \"192.168.137.1\"\n",
    "\n",
    "# broker = \"192.168.0.100\" \n",
    "# broker = '10.150.45.44'\n",
    "port = 1883\n",
    "topic_leaf = \"IoT/apple/location0/leaf\"\n",
    "topic_soil = \"IoT/apple/location0/soil\"\n",
    "# Generate a Client ID with the subscribe prefix.\n",
    "client_id = f'subscribe-{random.randint(0, 100)}'\n",
    "# username = 'emqx'\n",
    "# password = 'public'\n",
    "\n",
    "\n",
    "def connect_mqtt() -> mqtt_client:\n",
    "    def on_connect(client, userdata, flags, rc):\n",
    "        if rc == 0:\n",
    "            print(\"Connected to MQTT Broker!\")\n",
    "        else:\n",
    "            print(\"Failed to connect, return code %d\\n\", rc)\n",
    "\n",
    "    client = mqtt_client.Client(client_id)\n",
    "    # client.username_pw_set(username, password)\n",
    "    client.on_connect = on_connect\n",
    "    client.connect(broker, port)\n",
    "    return client\n",
    "\n",
    "\n",
    "def subscribe(client: mqtt_client):\n",
    "    def on_message(client, userdata, msg):\n",
    "        global last_message_time\n",
    "        message = msg.payload.decode()\n",
    "        message_topic = msg.topic.split('/')[-1]\n",
    "        if(message_topic=='leaf'):\n",
    "            last_message_time = time.time()\n",
    "            print(f\"Received message from `{message_topic}` topic\")\n",
    "            string_to_jpeg(message, output_file)\n",
    "            write_string_to_file('image_jpeg', message)\n",
    "        elif(message_topic=='soil'):\n",
    "            last_message_time = time.time()\n",
    "            print(f\"Received `{message}` from `{message_topic}` topic\")\n",
    "            write_string_to_file(file_path, message)\n",
    "        \n",
    "\n",
    "    client.subscribe(topic_leaf)\n",
    "    client.subscribe(topic_soil)\n",
    "    client.on_message = on_message\n",
    "\n",
    "def check_message_timeout():\n",
    "    global last_message_time\n",
    "    while True:\n",
    "        if time.time() - last_message_time > 60:  # Check if no message received in 1 minute\n",
    "            print(\"No message received since 1 minute.\")         \n",
    "            subject = 'Alert! , device irresponsive'\n",
    "            body = 'Dear User \\n the device at '+ topic_leaf.split('/')[-2]+' is not responding\\n last message recieved at' + str(datetime.fromtimestamp(last_message_time))\n",
    "            mailing_func(body,subject)\n",
    "            last_message_time = time.time()\n",
    "            break\n",
    "            time.sleep(10)\n",
    "    # time.sleep(10)  # Check every 10 seconds\n",
    "\n",
    "def run():\n",
    "    client = connect_mqtt()\n",
    "    subscribe(client)\n",
    "    threading.Thread(target=check_message_timeout, daemon=True).start()\n",
    "    \n",
    "    client.loop_forever()\n",
    "\n",
    "\n",
    "if __name__ == '__main__':\n",
    "    global last_message_time\n",
    "    last_message_time = time.time()\n",
    "    run()\n"
   ]
  },
  {
   "cell_type": "code",
   "execution_count": null,
   "metadata": {},
   "outputs": [],
   "source": []
  }
 ],
 "metadata": {
  "kernelspec": {
   "display_name": "Python 3",
   "language": "python",
   "name": "python3"
  },
  "language_info": {
   "codemirror_mode": {
    "name": "ipython",
    "version": 3
   },
   "file_extension": ".py",
   "mimetype": "text/x-python",
   "name": "python",
   "nbconvert_exporter": "python",
   "pygments_lexer": "ipython3",
   "version": "3.10.4"
  }
 },
 "nbformat": 4,
 "nbformat_minor": 2
}
