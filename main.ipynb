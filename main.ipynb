{
 "cells": [
  {
   "cell_type": "code",
   "execution_count": 1,
   "id": "5546c3ab",
   "metadata": {},
   "outputs": [],
   "source": [
    "# !pip install flask"
   ]
  },
  {
   "cell_type": "code",
   "execution_count": 1,
   "id": "d4171798-70b3-4c8f-867b-21cd68169445",
   "metadata": {},
   "outputs": [
    {
     "name": "stderr",
     "output_type": "stream",
     "text": [
      "C:\\Users\\91941\\AppData\\Local\\Temp\\ipykernel_5216\\4189171892.py:7: DeprecationWarning: \n",
      "Pyarrow will become a required dependency of pandas in the next major release of pandas (pandas 3.0),\n",
      "(to allow more performant data types, such as the Arrow string type, and better interoperability with other libraries)\n",
      "but was not found to be installed on your system.\n",
      "If this would cause problems for you,\n",
      "please provide us feedback at https://github.com/pandas-dev/pandas/issues/54466\n",
      "        \n",
      "  import pandas as pd\n"
     ]
    }
   ],
   "source": [
    "import torch\n",
    "import torch.nn as nn\n",
    "import torch.optim as optim\n",
    "from torchvision import models\n",
    "from PIL import Image\n",
    "import numpy as np\n",
    "import pandas as pd\n",
    "from PIL import Image\n",
    "import torch.nn.functional as F\n",
    "from torchvision import transforms\n",
    "import io\n",
    "# from flask import Flask, render_template, request, Markup\n",
    "from model import ResNet9\n",
    "from disease import disease_dic\n",
    "from fertilizer import fertilizer_dic"
   ]
  },
  {
   "cell_type": "markdown",
   "id": "31fefc7f",
   "metadata": {},
   "source": [
    "### **Dictionary for disease namme categories**"
   ]
  },
  {
   "cell_type": "code",
   "execution_count": 3,
   "id": "31129e5f-040c-489e-84cd-f8183523a494",
   "metadata": {},
   "outputs": [
    {
     "data": {
      "text/plain": [
       "ResNet9(\n",
       "  (conv1): Sequential(\n",
       "    (0): Conv2d(3, 64, kernel_size=(3, 3), stride=(1, 1), padding=(1, 1))\n",
       "    (1): BatchNorm2d(64, eps=1e-05, momentum=0.1, affine=True, track_running_stats=True)\n",
       "    (2): ReLU(inplace=True)\n",
       "  )\n",
       "  (conv2): Sequential(\n",
       "    (0): Conv2d(64, 128, kernel_size=(3, 3), stride=(1, 1), padding=(1, 1))\n",
       "    (1): BatchNorm2d(128, eps=1e-05, momentum=0.1, affine=True, track_running_stats=True)\n",
       "    (2): ReLU(inplace=True)\n",
       "    (3): MaxPool2d(kernel_size=4, stride=4, padding=0, dilation=1, ceil_mode=False)\n",
       "  )\n",
       "  (res1): Sequential(\n",
       "    (0): Sequential(\n",
       "      (0): Conv2d(128, 128, kernel_size=(3, 3), stride=(1, 1), padding=(1, 1))\n",
       "      (1): BatchNorm2d(128, eps=1e-05, momentum=0.1, affine=True, track_running_stats=True)\n",
       "      (2): ReLU(inplace=True)\n",
       "    )\n",
       "    (1): Sequential(\n",
       "      (0): Conv2d(128, 128, kernel_size=(3, 3), stride=(1, 1), padding=(1, 1))\n",
       "      (1): BatchNorm2d(128, eps=1e-05, momentum=0.1, affine=True, track_running_stats=True)\n",
       "      (2): ReLU(inplace=True)\n",
       "    )\n",
       "  )\n",
       "  (conv3): Sequential(\n",
       "    (0): Conv2d(128, 256, kernel_size=(3, 3), stride=(1, 1), padding=(1, 1))\n",
       "    (1): BatchNorm2d(256, eps=1e-05, momentum=0.1, affine=True, track_running_stats=True)\n",
       "    (2): ReLU(inplace=True)\n",
       "    (3): MaxPool2d(kernel_size=4, stride=4, padding=0, dilation=1, ceil_mode=False)\n",
       "  )\n",
       "  (conv4): Sequential(\n",
       "    (0): Conv2d(256, 512, kernel_size=(3, 3), stride=(1, 1), padding=(1, 1))\n",
       "    (1): BatchNorm2d(512, eps=1e-05, momentum=0.1, affine=True, track_running_stats=True)\n",
       "    (2): ReLU(inplace=True)\n",
       "    (3): MaxPool2d(kernel_size=4, stride=4, padding=0, dilation=1, ceil_mode=False)\n",
       "  )\n",
       "  (res2): Sequential(\n",
       "    (0): Sequential(\n",
       "      (0): Conv2d(512, 512, kernel_size=(3, 3), stride=(1, 1), padding=(1, 1))\n",
       "      (1): BatchNorm2d(512, eps=1e-05, momentum=0.1, affine=True, track_running_stats=True)\n",
       "      (2): ReLU(inplace=True)\n",
       "    )\n",
       "    (1): Sequential(\n",
       "      (0): Conv2d(512, 512, kernel_size=(3, 3), stride=(1, 1), padding=(1, 1))\n",
       "      (1): BatchNorm2d(512, eps=1e-05, momentum=0.1, affine=True, track_running_stats=True)\n",
       "      (2): ReLU(inplace=True)\n",
       "    )\n",
       "  )\n",
       "  (classifier): Sequential(\n",
       "    (0): MaxPool2d(kernel_size=4, stride=4, padding=0, dilation=1, ceil_mode=False)\n",
       "    (1): Flatten(start_dim=1, end_dim=-1)\n",
       "    (2): Linear(in_features=512, out_features=38, bias=True)\n",
       "  )\n",
       ")"
      ]
     },
     "execution_count": 3,
     "metadata": {},
     "output_type": "execute_result"
    }
   ],
   "source": [
    "disease_classes = ['Apple___Apple_scab',\n",
    "                   'Apple___Black_rot',\n",
    "                   'Apple___Cedar_apple_rust',\n",
    "                   'Apple___healthy',\n",
    "                   'Blueberry___healthy',\n",
    "                   'Cherry_(including_sour)___Powdery_mildew',\n",
    "                   'Cherry_(including_sour)___healthy',\n",
    "                   'Corn_(maize)___Cercospora_leaf_spot Gray_leaf_spot',\n",
    "                   'Corn_(maize)___Common_rust_',\n",
    "                   'Corn_(maize)___Northern_Leaf_Blight',\n",
    "                   'Corn_(maize)___healthy',\n",
    "                   'Grape___Black_rot',\n",
    "                   'Grape___Esca_(Black_Measles)',\n",
    "                   'Grape___Leaf_blight_(Isariopsis_Leaf_Spot)',\n",
    "                   'Grape___healthy',\n",
    "                   'Orange___Haunglongbing_(Citrus_greening)',\n",
    "                   'Peach___Bacterial_spot',\n",
    "                   'Peach___healthy',\n",
    "                   'Pepper,_bell___Bacterial_spot',\n",
    "                   'Pepper,_bell___healthy',\n",
    "                   'Potato___Early_blight',\n",
    "                   'Potato___Late_blight',\n",
    "                   'Potato___healthy',\n",
    "                   'Raspberry___healthy',\n",
    "                   'Soybean___healthy',\n",
    "                   'Squash___Powdery_mildew',\n",
    "                   'Strawberry___Leaf_scorch',\n",
    "                   'Strawberry___healthy',\n",
    "                   'Tomato___Bacterial_spot',\n",
    "                   'Tomato___Early_blight',\n",
    "                   'Tomato___Late_blight',\n",
    "                   'Tomato___Leaf_Mold',\n",
    "                   'Tomato___Septoria_leaf_spot',\n",
    "                   'Tomato___Spider_mites Two-spotted_spider_mite',\n",
    "                   'Tomato___Target_Spot',\n",
    "                   'Tomato___Tomato_Yellow_Leaf_Curl_Virus',\n",
    "                   'Tomato___Tomato_mosaic_virus',\n",
    "                   'Tomato___healthy']\n",
    "\n",
    "disease_model_path = 'plant_disease_model.pth'\n",
    "disease_model = ResNet9(3, len(disease_classes))\n",
    "disease_model.load_state_dict(torch.load(\n",
    "    disease_model_path, map_location=torch.device('cpu')))\n",
    "disease_model.eval()"
   ]
  },
  {
   "cell_type": "markdown",
   "id": "d698e05d",
   "metadata": {},
   "source": [
    "### *Disease model*"
   ]
  },
  {
   "cell_type": "markdown",
   "id": "f07ff21d",
   "metadata": {},
   "source": [
    "### Following function is to predict disease of plant from image"
   ]
  },
  {
   "cell_type": "code",
   "execution_count": 4,
   "id": "825faf7c-4345-421b-91e9-a0dcd0c06083",
   "metadata": {},
   "outputs": [],
   "source": [
    "def predict_image(img, model=disease_model):\n",
    "    \"\"\"\n",
    "    Transforms image to tensor and predicts disease label\n",
    "    :params: image\n",
    "    :return: prediction (string)\n",
    "    \"\"\"\n",
    "    transform = transforms.Compose([\n",
    "        transforms.Resize(256),\n",
    "        transforms.ToTensor(),\n",
    "    ])\n",
    "    image = Image.open(img)\n",
    "    img_t = transform(image)\n",
    "    img_u = torch.unsqueeze(img_t, 0)\n",
    "\n",
    "    # Get predictions from model\n",
    "    yb = model(img_u)\n",
    "    # Pick index with highest probability\n",
    "    _, preds = torch.max(yb, dim=1)\n",
    "    prediction = disease_classes[preds[0].item()]\n",
    "    # Retrieve the class label\n",
    "    return prediction"
   ]
  },
  {
   "cell_type": "code",
   "execution_count": 5,
   "id": "dbd2e4d8-d6cc-4812-84ae-0d6807dda683",
   "metadata": {},
   "outputs": [],
   "source": [
    "# img = \"output.JPG\"\n",
    "img = 'C:\\\\Users\\\\91941\\\\OneDrive\\\\Desktop\\\\iot_proj\\\\leaf.jpg'\n",
    "prediction = predict_image(img, disease_model)\n",
    "prediction = str(disease_dic[prediction])"
   ]
  },
  {
   "cell_type": "code",
   "execution_count": 6,
   "id": "e14ea7b8-54e7-498d-900b-4edb5b998788",
   "metadata": {},
   "outputs": [
    {
     "name": "stdout",
     "output_type": "stream",
     "text": [
      " <b>Crop</b>: Apple <br/>Disease: Apple Scab<br/>\n",
      "        <br/> Cause of disease:\n",
      "\n",
      "        <br/><br/> 1. Apple scab overwinters primarily in fallen leaves and in the soil. Disease development is favored by wet, cool weather that generally occurs in spring and early summer.\n",
      "\n",
      "        <br/> 2. Fungal spores are carried by wind, rain or splashing water from the ground to flowers, leaves or fruit. During damp or rainy periods, newly opening apple leaves are extremely susceptible to infection. The longer the leaves remain wet, the more severe the infection will be. Apple scab spreads rapidly between 55-75 degrees Fahrenheit.\n",
      "        <br/><br/> How to prevent/cure the disease <br/>\n",
      "        <br/>1. Choose resistant varieties when possible.\n",
      "\n",
      "        <br/>2. Rake under trees and destroy infected leaves to reduce the number of fungal spores available to start the disease cycle over again next spring\n",
      "        \n",
      "        <br/>3. Water in the evening or early morning hours (avoid overhead irrigation) to give the leaves time to dry out before infection can occur.\n",
      "        <br/>4. Spread a 3- to 6-inch layer of compost under trees, keeping it away from the trunk, to cover soil and prevent splash dispersal of the fungal spores.\n"
     ]
    }
   ],
   "source": [
    "print(prediction)"
   ]
  },
  {
   "cell_type": "markdown",
   "id": "484c4ef6",
   "metadata": {},
   "source": [
    "### Follwing function will take soil content and will measure balanced or not and will give the way to get rid if any unbalanced N, P, K is present."
   ]
  },
  {
   "cell_type": "code",
   "execution_count": 7,
   "id": "17220342-ff3b-4b05-8736-2795b4f3da6d",
   "metadata": {},
   "outputs": [],
   "source": [
    "def fert_recommend(crop_name, N, P, K):\n",
    "\n",
    "    df = pd.read_csv('fertilizer.csv')\n",
    "\n",
    "    nr = df[df['Crop'] == crop_name]['N'].iloc[0]\n",
    "    pr = df[df['Crop'] == crop_name]['P'].iloc[0]\n",
    "    kr = df[df['Crop'] == crop_name]['K'].iloc[0]\n",
    "\n",
    "    n = nr - N\n",
    "    p = pr - P\n",
    "    k = kr - K\n",
    "    temp = {abs(n): \"N\", abs(p): \"P\", abs(k): \"K\"}\n",
    "    max_value = temp[max(temp.keys())]\n",
    "    if max_value == \"N\":\n",
    "        if n < 0:\n",
    "            key = 'NHigh'\n",
    "        else:\n",
    "            key = \"Nlow\"\n",
    "    elif max_value == \"P\":\n",
    "        if p < 0:\n",
    "            key = 'PHigh'\n",
    "        else:\n",
    "            key = \"Plow\"\n",
    "    else:\n",
    "        if k < 0:\n",
    "            key = 'KHigh'\n",
    "        else:\n",
    "            key = \"Klow\"\n",
    "\n",
    "    response = str(fertilizer_dic[key])\n",
    "\n",
    "    return response"
   ]
  },
  {
   "cell_type": "code",
   "execution_count": 8,
   "id": "cbdcafc2-2289-46bd-88f2-7357b29aa264",
   "metadata": {},
   "outputs": [
    {
     "name": "stdout",
     "output_type": "stream",
     "text": [
      "['N:80', 'P:40', 'K:40']\n"
     ]
    }
   ],
   "source": [
    "# Open the text file in read mode\n",
    "path = 'C:\\\\Users\\\\91941\\\\OneDrive\\\\Desktop\\\\iot_proj\\\\composition.txt'\n",
    "\n",
    "with open(path, 'r') as file:\n",
    "    data = file.readline().strip()\n",
    "    components = data.split(',')\n",
    "    N, P, K = None, None, None\n",
    "    print(components)\n",
    "    for component in components:\n",
    "        key, value = component.split(':')\n",
    "        if key == 'N':\n",
    "            N = int(value)\n",
    "        elif key == 'P':\n",
    "            P = int(value)\n",
    "        elif key == 'K':\n",
    "            K = int(value)\n",
    "crop = 'apple'\n",
    "response = fert_recommend(crop, N, P, K)"
   ]
  },
  {
   "cell_type": "code",
   "execution_count": 9,
   "id": "21cc19a6-d6bb-4adf-a759-2f346b05e0af",
   "metadata": {},
   "outputs": [
    {
     "name": "stdout",
     "output_type": "stream",
     "text": [
      "The K value of your soil is low.\n",
      "        <br/>Please consider the following suggestions:\n",
      "\n",
      "        <br/><br/>1. Mix in muricate of potash or sulphate of potash\n",
      "        <br/>2. Try kelp meal or seaweed\n",
      "        <br/>3. Try Sul-Po-Mag\n",
      "        <br/>4. Bury banana peels an inch below the soils surface\n",
      "        <br/>5. Use Potash fertilizers since they contain high values potassium\n",
      "        \n"
     ]
    }
   ],
   "source": [
    "print(response)\n",
    "response = 'crop name : <b>'+ crop +'</b><br>' + response"
   ]
  },
  {
   "cell_type": "code",
   "execution_count": 14,
   "id": "5261b53b-a64f-4b49-91c1-5413b1680f4c",
   "metadata": {},
   "outputs": [],
   "source": [
    "import smtplib\n",
    "from email.mime.text import MIMEText\n",
    "from email.mime.image import MIMEImage\n",
    "from email.mime.multipart import MIMEMultipart\n",
    "def mailing_func(body,subject,image_path):\n",
    "    sender_email = ''\n",
    "    sender_password = \"\"\n",
    "    receiver_email_list = ['anant23k.kiran@gmail.com','shubhiagarwal2494@gmail.com','harshiitg2025@gmail.com','arghyadip@iitg.ac.in']\n",
    "    # receiver_email_list = ['anant23k.kiran@gmail.com','shubhiagarwal2494@gmail.com','harshiitg2025@gmail.com']\n",
    "    # receiver_email_list = ['harshiitg2025@gmail.com']\n",
    "    for receiver_email in receiver_email_list:\n",
    "        msg = MIMEMultipart()\n",
    "        msg['From'] = sender_email\n",
    "        msg['To'] = receiver_email\n",
    "        msg['Subject'] = subject\n",
    "        msg.attach(MIMEText(body, 'html'))\n",
    "        if(len(image_path)>0):\n",
    "            with open(image_path, 'rb') as img_file:\n",
    "                # Create an image MIMEImage object\n",
    "                img = MIMEImage(img_file.read())\n",
    "                # Define the image ID\n",
    "                img.add_header('Content-ID', '<image1>')\n",
    "                # Attach the image to the email\n",
    "                msg.attach(img)\n",
    "\n",
    "        try:\n",
    "            smtp_server = smtplib.SMTP('smtp.gmail.com', 587)\n",
    "\n",
    "            smtp_server.starttls()\n",
    "            smtp_server.login(sender_email, sender_password)\n",
    "            smtp_server.sendmail(sender_email, receiver_email, msg.as_string())\n",
    "            smtp_server.quit()\n",
    "\n",
    "            print(\"Email sent successfulGmail ly!\")\n",
    "        except Exception as e:\n",
    "            print(\"An error occurred while sending the email:\", str(e))\n",
    "    return \n"
   ]
  },
  {
   "cell_type": "markdown",
   "id": "19d188f6",
   "metadata": {},
   "source": [
    "### Exporting Results"
   ]
  },
  {
   "cell_type": "code",
   "execution_count": 15,
   "id": "7a9bc064",
   "metadata": {},
   "outputs": [
    {
     "name": "stdout",
     "output_type": "stream",
     "text": [
      "Email sent successfulGmail ly!\n",
      "Email sent successfulGmail ly!\n",
      "Email sent successfulGmail ly!\n"
     ]
    }
   ],
   "source": [
    "\n",
    "\n",
    "subject = 'Soil update for ' + crop\n",
    "body = response\n",
    "mailing_func(body,subject,'')\n"
   ]
  },
  {
   "cell_type": "code",
   "execution_count": 16,
   "id": "e45db15f",
   "metadata": {},
   "outputs": [],
   "source": [
    "file_path_image = \"soil_output.txt\"\n",
    "with open(file_path_image, \"w\") as file:\n",
    "    file.write(body)"
   ]
  },
  {
   "cell_type": "code",
   "execution_count": 17,
   "id": "94be322b",
   "metadata": {},
   "outputs": [
    {
     "name": "stdout",
     "output_type": "stream",
     "text": [
      "Email sent successfulGmail ly!\n",
      "Email sent successfulGmail ly!\n",
      "Email sent successfulGmail ly!\n"
     ]
    }
   ],
   "source": [
    "subject = 'health update for ' + crop\n",
    "body = prediction\n",
    "mailing_func(body,subject,img)"
   ]
  },
  {
   "cell_type": "code",
   "execution_count": 18,
   "id": "bcd81c7a",
   "metadata": {},
   "outputs": [],
   "source": [
    "file_path_image = \"leaf_output.txt\"\n",
    "with open(file_path_image, \"w\") as file:\n",
    "    file.write(body)"
   ]
  }
 ],
 "metadata": {
  "kernelspec": {
   "display_name": "Python 3 (ipykernel)",
   "language": "python",
   "name": "python3"
  },
  "language_info": {
   "codemirror_mode": {
    "name": "ipython",
    "version": 3
   },
   "file_extension": ".py",
   "mimetype": "text/x-python",
   "name": "python",
   "nbconvert_exporter": "python",
   "pygments_lexer": "ipython3",
   "version": "3.10.4"
  },
  "widgets": {
   "application/vnd.jupyter.widget-state+json": {
    "state": {},
    "version_major": 2,
    "version_minor": 0
   }
  }
 },
 "nbformat": 4,
 "nbformat_minor": 5
}
